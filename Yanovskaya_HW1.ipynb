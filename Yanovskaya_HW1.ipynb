{
 "cells": [
  {
   "cell_type": "markdown",
   "id": "3a4e4fe2",
   "metadata": {},
   "source": [
    "## Задание 1"
   ]
  },
  {
   "cell_type": "markdown",
   "id": "51659542",
   "metadata": {},
   "source": [
    "На складе лежат разные фрукты в разном количестве. Нужно написать функцию, которая на вход принимает любое количество названий фруктов и их количество, а возвращает общее количество фруктов на складе"
   ]
  },
  {
   "cell_type": "code",
   "execution_count": 8,
   "id": "91b47907",
   "metadata": {},
   "outputs": [],
   "source": [
    "def fruits(**count):\n",
    "    whole_fruit= 0\n",
    "    for k in count.keys():\n",
    "        whole_fruit += count[k]\n",
    "    return f'Всего фруктов на складе: {whole_fruit}'"
   ]
  },
  {
   "cell_type": "code",
   "execution_count": 10,
   "id": "99cf02d3",
   "metadata": {},
   "outputs": [
    {
     "data": {
      "text/plain": [
       "'Всего фруктов на складе: 2260'"
      ]
     },
     "execution_count": 10,
     "metadata": {},
     "output_type": "execute_result"
    }
   ],
   "source": [
    "fruits(apples=1250, mango = 363, oranges=569, bananas=78)"
   ]
  },
  {
   "cell_type": "markdown",
   "id": "b9d9e8a2",
   "metadata": {},
   "source": [
    "## Задание 2\n"
   ]
  },
  {
   "cell_type": "markdown",
   "id": "b472a16a",
   "metadata": {},
   "source": [
    "Дан список с затратами на рекламу. Но в данных есть ошибки, некоторые затраты имеют отрицательную величину. Удалите такие значения из списка и посчитайте суммарные затраты\n",
    "Используйте list comprehensions"
   ]
  },
  {
   "cell_type": "code",
   "execution_count": 12,
   "id": "b46a1e45",
   "metadata": {},
   "outputs": [
    {
     "data": {
      "text/plain": [
       "[100, 125, -90, 345, 655, -1, 0, 200]"
      ]
     },
     "execution_count": 12,
     "metadata": {},
     "output_type": "execute_result"
    }
   ],
   "source": [
    "[100, 125, -90, 345, 655, -1, 0, 200]"
   ]
  },
  {
   "cell_type": "code",
   "execution_count": 14,
   "id": "b7157a71",
   "metadata": {},
   "outputs": [
    {
     "data": {
      "text/plain": [
       "1425"
      ]
     },
     "execution_count": 14,
     "metadata": {},
     "output_type": "execute_result"
    }
   ],
   "source": [
    "def ExpSum(exp_list: list) -> int: \n",
    "    return sum([i for i in exp_list if i > 0])\n",
    "\n",
    "ExpSum([100, 125, -90, 345, 655, -1, 0, 200])"
   ]
  },
  {
   "cell_type": "markdown",
   "id": "f625f826",
   "metadata": {},
   "source": [
    "## Задание 3"
   ]
  },
  {
   "cell_type": "markdown",
   "id": "c480a3fa",
   "metadata": {},
   "source": [
    "Даны два списка:\n",
    "\n",
    "Дата покупки:"
   ]
  },
  {
   "cell_type": "code",
   "execution_count": 17,
   "id": "d6ca4e93",
   "metadata": {},
   "outputs": [],
   "source": [
    "date = ['2021-09-14', '2021-12-15', '2021-09-08', '2021-12-05', '2021-10-09', '2021-09-30', '2021-12-22', '2021-11-29', '2021-12-24', '2021-11-26', '2021-10-27', '2021-12-18', '2021-11-09', '2021-11-23', '2021-09-27', '2021-10-02', '2021-12-27', '2021-09-20', '2021-12-13', '2021-11-01', '2021-11-09', '2021-12-06', '2021-12-08', '2021-10-09', '2021-10-31', '2021-09-30', '2021-11-09', '2021-12-13', '2021-10-26', '2021-12-09']"
   ]
  },
  {
   "cell_type": "markdown",
   "id": "a431328a",
   "metadata": {},
   "source": [
    "Суммы покупок по датам:"
   ]
  },
  {
   "cell_type": "code",
   "execution_count": 18,
   "id": "c6cd2b1b",
   "metadata": {},
   "outputs": [],
   "source": [
    "purchases = [1270, 8413, 9028, 3703, 5739, 4095, 295, 4944, 5723, 3701, 4471, 651, 7037, 4274, 6275, 4988, 6930, 2971, 6592, 2004, 2822, 519, 3406, 2732, 5015, 2008, 316, 6333, 5700, 2887]"
   ]
  },
  {
   "cell_type": "markdown",
   "id": "f6e4d729",
   "metadata": {},
   "source": [
    "## Задание 4"
   ]
  },
  {
   "cell_type": "markdown",
   "id": "f5bb0f89",
   "metadata": {},
   "source": [
    "### 4.1 Найдите, какая выручка у компании в ноябре. Используйте list comprehensions"
   ]
  },
  {
   "cell_type": "code",
   "execution_count": 21,
   "id": "06c72127",
   "metadata": {},
   "outputs": [
    {
     "data": {
      "text/plain": [
       "25098"
      ]
     },
     "execution_count": 21,
     "metadata": {},
     "output_type": "execute_result"
    }
   ],
   "source": [
    "november = sum([purchases[i] for i in range(len(purchases)) if date[i].split('-')[1] == '11'])\n",
    "november"
   ]
  },
  {
   "cell_type": "markdown",
   "id": "63f135d5",
   "metadata": {},
   "source": [
    "### 4.2 Найдите выручку компании в зависимости от месяца\n",
    "\n",
    "Для этого напишите функцию, которая на вход принимает список с датами и список с выручкой, а на выходе словарь, где ключи - это месяцы, а значения - это выручка.\n",
    "Используйте аннотирование типов."
   ]
  },
  {
   "cell_type": "code",
   "execution_count": 22,
   "id": "a045226f",
   "metadata": {},
   "outputs": [
    {
     "data": {
      "text/plain": [
       "{'09': 25647, '12': 45452, '10': 28645, '11': 25098}"
      ]
     },
     "execution_count": 22,
     "metadata": {},
     "output_type": "execute_result"
    }
   ],
   "source": [
    "def MonthRes(date: list, purchases: list) -> dict:\n",
    "    result = {}\n",
    "    for i in range(len(date)):\n",
    "        if date[i].split('-')[1] not in result:\n",
    "            result[date[i].split('-')[1]] = purchases[i]\n",
    "        else:\n",
    "            result[date[i].split('-')[1]] += purchases[i]\n",
    "    return result\n",
    "MonthRes(date, purchases)"
   ]
  }
 ],
 "metadata": {
  "kernelspec": {
   "display_name": "Python 3 (ipykernel)",
   "language": "python",
   "name": "python3"
  },
  "language_info": {
   "codemirror_mode": {
    "name": "ipython",
    "version": 3
   },
   "file_extension": ".py",
   "mimetype": "text/x-python",
   "name": "python",
   "nbconvert_exporter": "python",
   "pygments_lexer": "ipython3",
   "version": "3.9.13"
  }
 },
 "nbformat": 4,
 "nbformat_minor": 5
}
